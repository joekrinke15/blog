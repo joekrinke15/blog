{
 "cells": [
  {
   "cell_type": "markdown",
   "metadata": {},
   "source": [
    "# Creating A Spotify Database from Scratch"
   ]
  },
  {
   "cell_type": "markdown",
   "metadata": {},
   "source": [
    " Let's begin by importing needed packages and reading in the Spotify data."
   ]
  },
  {
   "cell_type": "code",
   "execution_count": null,
   "metadata": {},
   "outputs": [],
   "source": [
    "import pandas as pd\n",
    "import numpy as np\n",
    "import sqlite3\n",
    "from IPython.display import HTML\n",
    "from sqlalchemy import create_engine"
   ]
  },
  {
   "cell_type": "code",
   "execution_count": null,
   "metadata": {},
   "outputs": [],
   "source": [
    "# Read in spotify data into a dataframe\n",
    "df = pd.read_csv('https://raw.githubusercontent.com/rfordatascience/tidytuesday/master/data/2020/2020-01-21/spotify_songs.csv')\n",
    "df.columns\n",
    "pd.set_option('display.max_columns', 30)\n",
    "subset = df.sample(5)"
   ]
  },
  {
   "cell_type": "code",
   "execution_count": null,
   "metadata": {},
   "outputs": [],
   "source": [
    "HTML(subset.to_html())"
   ]
  },
  {
   "cell_type": "code",
   "execution_count": null,
   "metadata": {},
   "outputs": [],
   "source": [
    "df[['track_id', 'track_album_id', 'track_album_name']]"
   ]
  },
  {
   "cell_type": "markdown",
   "metadata": {},
   "source": [
    "The first step in getting this data into a database is normalizing it. Normalization makes the database more efficient and flexible by reducing the amount of redundant data. The database is already in first normal form, as there are no columns that contain multiple data elements; the next step is to determine how to get it into second normal form. Second normal form is when all of the non-key columns are dependent only on the table's primary key. This sounds a bit jargony, I know, but an example may help clarify things. \n",
    "\n",
    "A primary key is a value that is unique for each record in the database. In the current scenario, we have a unique track id for every track in our dataset, so we could potentially use this as our primary key. If the database was in second normal form all the other columns in the table would only be dependent on the track id. This is not the case currently, as the present columns are dependent on other values in the database. For example, the track album name is dependent on the track album id. We need to break the table up into smaller tables to fix this problem.\n",
    "\n",
    "| Table Name  | Contents    |\n",
    "| ----------- | ----------- |\n",
    "| tracks       | track id and song characteristics|\n",
    "| album_name  | album name and album id       |\n",
    "| album release | album id and release date|\n",
    "| playlist  | playlist id and playlist characteristics|\n",
    "| track_playlist | track id and playlist id |\n",
    "| track_artist | track id and artist name|"
   ]
  },
  {
   "cell_type": "code",
   "execution_count": null,
   "metadata": {},
   "outputs": [],
   "source": [
    "# Create subset dataframes to be turned into individual tables\n",
    "tracks = df[['track_id', 'track_popularity', 'danceability', 'energy', 'key', 'loudness', 'mode', 'speechiness',\n",
    "       'acousticness', 'instrumentalness', 'liveness', 'valence', 'tempo',\n",
    "       'duration_ms']]\n",
    "\n",
    "track_name = df [['track_id', 'track_name']]\n",
    "\n",
    "track_album = df[['track_album_id', 'track_id']]\n",
    "\n",
    "album_name = df[['track_album_id', 'track_album_name']]\n",
    "\n",
    "album_release = df[['track_album_release_date', 'track_album_id']]\n",
    "\n",
    "playlist = df[['playlist_name', 'playlist_id', 'playlist_genre', 'playlist_subgenre']]\n",
    "\n",
    "track_playlist = df[['playlist_id', 'track_id']]\n",
    "\n",
    "track_artist = df[['track_id', 'track_artist']]\n",
    "\n",
    "playlist_genre = df[['playlist_genre', 'playlist_subgenre']]"
   ]
  },
  {
   "cell_type": "code",
   "execution_count": null,
   "metadata": {},
   "outputs": [],
   "source": [
    "# Create a database to connect to in memory\n",
    "cnx = sqlite3.connect('spotify.db')\n",
    "\n",
    "# Create the tables in the database\n",
    "tracks.to_sql(name='tracks', con=cnx, index = False)\n",
    "track_name.to_sql(name='track_name', con=cnx, index = False)\n",
    "playlist.to_sql(name='playlist', con = cnx, index = False)\n",
    "album_release.to_sql(name='album_release', con = cnx, index = False)\n",
    "album_name.to_sql(name='album_name', con = cnx, index = False)\n",
    "track_album.to_sql(name='track_album', con = cnx, index = False)\n",
    "track_playlist.to_sql(name = 'track_playlist', con = cnx, index = False)\n",
    "track_artist.to_sql(name= 'track_artist', con = cnx, index = False)"
   ]
  },
  {
   "cell_type": "markdown",
   "metadata": {},
   "source": [
    " Load SQL and connect to our new Spotify database."
   ]
  },
  {
   "cell_type": "code",
   "execution_count": null,
   "metadata": {},
   "outputs": [],
   "source": [
    "%load_ext sql"
   ]
  },
  {
   "cell_type": "code",
   "execution_count": null,
   "metadata": {},
   "outputs": [],
   "source": [
    "%sql sqlite:///spotify.db"
   ]
  },
  {
   "cell_type": "markdown",
   "metadata": {},
   "source": [
    "Examine the structure of the SQL database tables."
   ]
  },
  {
   "cell_type": "code",
   "execution_count": null,
   "metadata": {},
   "outputs": [],
   "source": [
    "%%sql\n",
    "SELECT * FROM sqlite_master WHERE type='table';"
   ]
  },
  {
   "cell_type": "code",
   "execution_count": null,
   "metadata": {},
   "outputs": [],
   "source": [
    "%%sql\n",
    "SELECT *\n",
    "FROM tracks\n",
    "LIMIT 5"
   ]
  },
  {
   "cell_type": "code",
   "execution_count": null,
   "metadata": {},
   "outputs": [],
   "source": [
    "%%sql\n",
    "SELECT * \n",
    "FROM track_name\n",
    "LIMIT 5"
   ]
  },
  {
   "cell_type": "code",
   "execution_count": null,
   "metadata": {},
   "outputs": [],
   "source": [
    "%%sql\n",
    "SELECT *\n",
    "FROM playlist\n",
    "LIMIT 5"
   ]
  },
  {
   "cell_type": "code",
   "execution_count": null,
   "metadata": {},
   "outputs": [],
   "source": [
    "%%sql\n",
    "SELECT *\n",
    "FROM album_release\n",
    "LIMIT 5"
   ]
  },
  {
   "cell_type": "code",
   "execution_count": null,
   "metadata": {},
   "outputs": [],
   "source": [
    "%%sql\n",
    "SELECT * \n",
    "FROM album_name\n",
    "LIMIT 5"
   ]
  },
  {
   "cell_type": "code",
   "execution_count": null,
   "metadata": {},
   "outputs": [],
   "source": [
    "%%sql\n",
    "SELECT * \n",
    "FROM track_album\n",
    "LIMIT 5"
   ]
  },
  {
   "cell_type": "markdown",
   "metadata": {},
   "source": [
    "Let's try a sample query! I'm interested in the average danceability of songs by playlist genre. What playlist is the most danceable?"
   ]
  },
  {
   "cell_type": "code",
   "execution_count": null,
   "metadata": {},
   "outputs": [],
   "source": [
    "%%sql\n",
    "SELECT AVG(tracks.danceability) as Danceability, playlist.playlist_genre as Genre\n",
    "FROM tracks\n",
    "JOIN playlist ON playlist.playlist_id = track_playlist.playlist_id\n",
    "JOIN track_playlist ON track_playlist.track_id = tracks.track_id\n",
    "GROUP BY playlist.playlist_genre\n",
    "ORDER by AVG(tracks.danceability) DESC"
   ]
  },
  {
   "cell_type": "code",
   "execution_count": null,
   "metadata": {},
   "outputs": [],
   "source": [
    "%%sql\n",
    "SELECT DISTINCT(track_name.track_name) as TrackName, (tracks.danceability) as Danceability, playlist.playlist_genre as Genre\n",
    "FROM tracks\n",
    "JOIN playlist ON playlist.playlist_id = track_playlist.playlist_id\n",
    "JOIN track_name ON track_name.track_id = tracks.track_id\n",
    "JOIN track_playlist ON track_playlist.track_id = tracks.track_id\n",
    "WHERE playlist.playlist_genre = 'rap'\n",
    "ORDER by (tracks.danceability) DESC\n",
    "LIMIT 5"
   ]
  },
  {
   "cell_type": "markdown",
   "metadata": {},
   "source": [
    "It seems a little strange that rap is the most danceable music... I wonder if something else is driving this?"
   ]
  },
  {
   "cell_type": "markdown",
   "metadata": {},
   "source": [
    "For fun, let's look at the least danceable music! It turns out it's a track called, \"Hi, How're You Doin'?\" by DREAMS COME TRUE. It's just a 10-second recording of someone saying \"Hi, How're You Doin?' The rating seems about right. "
   ]
  },
  {
   "cell_type": "code",
   "execution_count": null,
   "metadata": {},
   "outputs": [],
   "source": [
    "%%sql\n",
    "SELECT DISTINCT(track_name.track_name), track_artist.track_artist, tracks.energy\n",
    "FROM tracks\n",
    "JOIN track_name ON track_name.track_id = tracks.track_id\n",
    "JOIN track_artist ON track_artist.track_id = tracks.track_id\n",
    "ORDER BY tracks.energy DESC\n",
    "LIMIT 10"
   ]
  },
  {
   "cell_type": "markdown",
   "metadata": {},
   "source": [
    "The most popular tracks of our time."
   ]
  },
  {
   "cell_type": "code",
   "execution_count": null,
   "metadata": {},
   "outputs": [],
   "source": [
    "%%sql\n",
    "SELECT DISTINCT(track_name.track_name), tracks.track_popularity, track_artist.track_artist\n",
    "FROM tracks\n",
    "JOIN track_name ON track_name.track_id = tracks.track_id\n",
    "JOIN track_artist ON track_artist.track_id = tracks.track_id\n",
    "ORDER BY tracks.track_popularity DESC\n",
    "LIMIT 10"
   ]
  },
  {
   "cell_type": "code",
   "execution_count": null,
   "metadata": {},
   "outputs": [],
   "source": [
    "%%sql\n",
    "SELECT AVG(tracks.valence), playlist.playlist_genre\n",
    "FROM tracks\n",
    "JOIN track_name ON track_name.track_id = tracks.track_id\n",
    "JOIN track_artist ON track_artist.track_id = tracks.track_id\n",
    "JOIN playlist ON playlist.playlist_id = track_playlist.playlist_id\n",
    "JOIN track_playlist ON track_playlist.track_id = tracks.track_id\n",
    "GROUP BY playlist.playlist_genre\n",
    "ORDER BY AVG(tracks.valence) DESC"
   ]
  },
  {
   "cell_type": "markdown",
   "metadata": {},
   "source": [
    "Use an SQL query to find the names of all playlists that contain instrumentals."
   ]
  },
  {
   "cell_type": "code",
   "execution_count": null,
   "metadata": {},
   "outputs": [],
   "source": [
    "%%sql \n",
    "SELECT playlist.playlist_name\n",
    "FROM tracks\n",
    "JOIN track_name ON track_name.track_id = tracks.track_id\n",
    "JOIN track_artist ON track_artist.track_id = tracks.track_id\n",
    "JOIN playlist ON playlist.playlist_id = track_playlist.playlist_id\n",
    "JOIN track_playlist ON track_playlist.track_id = tracks.track_id\n",
    "GROUP BY playlist.playlist_id\n",
    "LIMIT 10"
   ]
  },
  {
   "cell_type": "code",
   "execution_count": null,
   "metadata": {},
   "outputs": [],
   "source": [
    "%%sql \n",
    "SELECT COUNT(*)\n",
    "FROM tracks\n",
    "WHERE tracks.instrumentalness >.50"
   ]
  },
  {
   "cell_type": "code",
   "execution_count": null,
   "metadata": {},
   "outputs": [],
   "source": [
    "%%sql \n",
    "SELECT PlaylistName, NumberInstrumentals\n",
    "FROM (SELECT COUNT(DISTINCT(tracks.track_id)) as NumberInstrumentals, playlist.playlist_name as PlaylistName\n",
    "      FROM tracks\n",
    "      JOIN track_playlist ON track_playlist.track_id = tracks.track_id\n",
    "      JOIN track_name ON track_name.track_id = tracks.track_id\n",
    "      JOIN track_artist ON track_artist.track_id = tracks.track_id\n",
    "      JOIN playlist ON playlist.playlist_id = track_playlist.playlist_id\n",
    "      WHERE tracks.instrumentalness >.50\n",
    "      GROUP BY playlist.playlist_name\n",
    "     )\n",
    "WHERE NumberInstrumentals > 0\n",
    "ORDER BY NumberInstrumentals DESC\n",
    "LIMIT 10"
   ]
  },
  {
   "cell_type": "markdown",
   "metadata": {},
   "source": [
    "Find the total number of playlists containing instrumentals. "
   ]
  },
  {
   "cell_type": "code",
   "execution_count": null,
   "metadata": {},
   "outputs": [],
   "source": [
    "%%sql \n",
    "SELECT COUNT(DISTINCT(PlaylistName))\n",
    "FROM (SELECT COUNT(DISTINCT(tracks.track_id)) as NumberInstrumentals, playlist.playlist_name as PlaylistName\n",
    "      FROM tracks\n",
    "      JOIN track_playlist ON track_playlist.track_id = tracks.track_id\n",
    "      JOIN track_name ON track_name.track_id = tracks.track_id\n",
    "      JOIN track_artist ON track_artist.track_id = tracks.track_id\n",
    "      JOIN playlist ON playlist.playlist_id = track_playlist.playlist_id\n",
    "      WHERE tracks.instrumentalness >.50\n",
    "      GROUP BY playlist.playlist_name\n",
    "     )\n",
    "WHERE NumberInstrumentals > 0\n",
    "LIMIT 10"
   ]
  }
 ],
 "metadata": {
  "kernelspec": {
   "display_name": "Python 3",
   "language": "python",
   "name": "python3"
  },
  "language_info": {
   "codemirror_mode": {
    "name": "ipython",
    "version": 3
   },
   "file_extension": ".py",
   "mimetype": "text/x-python",
   "name": "python",
   "nbconvert_exporter": "python",
   "pygments_lexer": "ipython3",
   "version": "3.8.3"
  }
 },
 "nbformat": 4,
 "nbformat_minor": 4
}
